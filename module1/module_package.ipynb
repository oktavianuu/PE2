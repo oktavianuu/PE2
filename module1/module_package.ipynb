{
 "cells": [
  {
   "cell_type": "markdown",
   "id": "92ea3d2e-dcb2-4855-96e6-e51c6f2dc5dd",
   "metadata": {},
   "source": [
    "# Modules, Packages and PIP"
   ]
  },
  {
   "cell_type": "markdown",
   "id": "124d31cb-2006-486d-98b0-e19b4e86182e",
   "metadata": {},
   "source": [
    "## Module\n",
    "Module is a python file containing python code. When we make computer programs or software, it is so complex that we need to separate each part to make it easy to maintain. This process is called decomposition. So module is simply a part of a softare. It is a component. "
   ]
  },
  {
   "cell_type": "code",
   "execution_count": 18,
   "id": "d8f3fc91-372e-4ac8-89d4-cbd9632cad05",
   "metadata": {},
   "outputs": [],
   "source": [
    "import fibo"
   ]
  },
  {
   "cell_type": "code",
   "execution_count": 19,
   "id": "f2f4d634-b35f-4065-a8c3-ce8ad38c91b5",
   "metadata": {},
   "outputs": [
    {
     "name": "stdout",
     "output_type": "stream",
     "text": [
      "0 1 1 2 3 5 8 13 21 34 55 89 144 233 377 610 987 \n"
     ]
    }
   ],
   "source": [
    "fibo.fib(1000)"
   ]
  },
  {
   "cell_type": "code",
   "execution_count": 22,
   "id": "bde26439-1bfc-40bb-9427-77965c355903",
   "metadata": {},
   "outputs": [
    {
     "data": {
      "text/plain": [
       "[0, 1, 1, 2, 2, 3, 3, 4, 4, 5, 5, 6, 6, 7, 7, 8, 8, 9, 9]"
      ]
     },
     "execution_count": 22,
     "metadata": {},
     "output_type": "execute_result"
    }
   ],
   "source": [
    "fibo.fib2(10)"
   ]
  },
  {
   "cell_type": "code",
   "execution_count": 23,
   "id": "626f0e5b-df3a-46fe-b589-85fa85b6a7f6",
   "metadata": {},
   "outputs": [
    {
     "data": {
      "text/plain": [
       "'fibo'"
      ]
     },
     "execution_count": 23,
     "metadata": {},
     "output_type": "execute_result"
    }
   ],
   "source": [
    "fibo.__name__"
   ]
  },
  {
   "cell_type": "markdown",
   "id": "7b1bb08c-e535-4211-a286-19d524a0cc08",
   "metadata": {},
   "source": [
    "### Namsespace\n",
    "It is important to understand namespace concept. Namespace is like a box that map code (variables, functions, classes) to object they refer to. When we write code in a file, all variables, functions and classes live inside that file. When we import a module that contains attributes such as method that has the same name with our variables, they won't affect each other. But there are things or rules to consider:\n",
    "```python\n",
    "import math # All submodules or attributes from math module with stay in math module, and we have no worries of one of its attributes will colide with our code\n",
    "from math import sqrt, pi # those two attributes are now live in our module, not in math module anymore. python will confuse if we declare code with those names\n",
    "from math import * # we need to avoid this at all cost\n",
    "```"
   ]
  },
  {
   "cell_type": "code",
   "execution_count": null,
   "id": "311d8af0-5f37-4756-b6de-78cb19c20d21",
   "metadata": {},
   "outputs": [],
   "source": []
  }
 ],
 "metadata": {
  "kernelspec": {
   "display_name": "Python 3 (ipykernel)",
   "language": "python",
   "name": "python3"
  },
  "language_info": {
   "codemirror_mode": {
    "name": "ipython",
    "version": 3
   },
   "file_extension": ".py",
   "mimetype": "text/x-python",
   "name": "python",
   "nbconvert_exporter": "python",
   "pygments_lexer": "ipython3",
   "version": "3.11.13"
  }
 },
 "nbformat": 4,
 "nbformat_minor": 5
}
